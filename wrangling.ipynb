{
 "cells": [
  {
   "cell_type": "code",
   "execution_count": 39,
   "metadata": {},
   "outputs": [],
   "source": [
    "import pandas as pd\n",
    "import re\n"
   ]
  },
  {
   "cell_type": "code",
   "execution_count": 23,
   "metadata": {},
   "outputs": [
    {
     "name": "stdout",
     "output_type": "stream",
     "text": [
      "Index(['MINORGRIDNAME', 'STREETNAME', 'ROADDIRECTIONPREFIXCD', 'ROADNAME',\n",
      "       'ROADTYPESUFFIXCD', 'ROADDIRECTIONSUFFIXCD', 'ZIPCD', 'RIGHTZIPCD',\n",
      "       'LOWADDRESSRANGEVALUE', 'HIGHADDRESSRANGEVALUE', 'TOWNSHIPNAME',\n",
      "       'MUNICIPALITYNAME', 'NUMCENTERLINES', 'INTERSECTINGLENGTH', 'GEOM_WKT'],\n",
      "      dtype='object')\n",
      "        MINORGRIDNAME          STREETNAME      ZIPCD  MUNICIPALITYNAME  \\\n",
      "0       MINORGRIDNAME          STREETNAME  LEFTZIPCD  MUNICIPALITYNAME   \n",
      "1               AB12B            117TH PL      46394           HAMMOND   \n",
      "2               AB12B            118TH ST      46394           HAMMOND   \n",
      "3               AB12B            119TH ST      46394           HAMMOND   \n",
      "4               AB12B            120TH ST      46394           HAMMOND   \n",
      "...               ...                 ...        ...               ...   \n",
      "168648          YN31D   COUNTY ROAD 400 E    46711.0               NaN   \n",
      "168649          YN31D            E 1175 S    46711.0               NaN   \n",
      "168650          YN31D            E 1175 S    46740.0               NaN   \n",
      "168651          YN32A  COUNTY ROAD 1150 S    46711.0               NaN   \n",
      "168652          YN32A             S 450 E    46711.0               NaN   \n",
      "\n",
      "        NUMCENTERLINES  INTERSECTINGLENGTH  \\\n",
      "0       NUMCENTERLINES  INTERSECTINGLENGTH   \n",
      "1                    4    1309.57667423781   \n",
      "2                    5    1360.11744620176   \n",
      "3                    3    672.223666841503   \n",
      "4                    1    388.057194263382   \n",
      "...                ...                 ...   \n",
      "168648               1         1086.764066   \n",
      "168649               1          498.189965   \n",
      "168650               1           29.732305   \n",
      "168651               1           33.149474   \n",
      "168652               2         2707.544093   \n",
      "\n",
      "                                                 GEOM_WKT  \n",
      "0                                                GEOM_WKT  \n",
      "1       LINESTRING (-87.5133624595531 41.6819642177294...  \n",
      "2       LINESTRING (-87.5133290003961 41.6812029868072...  \n",
      "3       MULTILINESTRING ((-87.5086907293005 41.6792199...  \n",
      "4       LINESTRING (-87.510010115853 41.6773947974598,...  \n",
      "...                                                   ...  \n",
      "168648  LINESTRING (-84.8587431619674 40.5788199945283...  \n",
      "168649  LINESTRING (-84.8604624624915 40.5758527164984...  \n",
      "168650  LINESTRING (-84.8586872285656 40.5758402438476...  \n",
      "168651  LINESTRING (-84.8491997968632 40.5789411503031...  \n",
      "168652  LINESTRING (-84.8492389699755 40.5863098526836...  \n",
      "\n",
      "[168653 rows x 7 columns]\n"
     ]
    },
    {
     "name": "stderr",
     "output_type": "stream",
     "text": [
      "C:\\Users\\Spencer\\AppData\\Local\\Packages\\PythonSoftwareFoundation.Python.3.9_qbz5n2kfra8p0\\LocalCache\\local-packages\\Python39\\site-packages\\IPython\\core\\interactiveshell.py:3457: DtypeWarning: Columns (6,7,8,9,12,13) have mixed types.Specify dtype option on import or set low_memory=False.\n",
      "  exec(code_obj, self.user_global_ns, self.user_ns)\n"
     ]
    },
    {
     "data": {
      "text/plain": [
       "MINORGRIDNAME         object\n",
       "STREETNAME            object\n",
       "ZIPCD                 object\n",
       "MUNICIPALITYNAME      object\n",
       "NUMCENTERLINES        object\n",
       "INTERSECTINGLENGTH    object\n",
       "GEOM_WKT              object\n",
       "dtype: object"
      ]
     },
     "execution_count": 23,
     "metadata": {},
     "output_type": "execute_result"
    }
   ],
   "source": [
    "# Import mapstreet data \n",
    "\n",
    "mapstreet = pd.read_csv(\"src_data\\GISMAPSTREET.txt\", sep=\"|\", header=None, skip_blank_lines=True,\n",
    "names=[\"MINORGRIDNAME\", \"STREETNAME\", \"ROADDIRECTIONPREFIXCD\", \"ROADNAME\", \"ROADTYPESUFFIXCD\", \"ROADDIRECTIONSUFFIXCD\", \"ZIPCD\", \"RIGHTZIPCD\", \"LOWADDRESSRANGEVALUE\", \"HIGHADDRESSRANGEVALUE\", \"TOWNSHIPNAME\", \"MUNICIPALITYNAME\", \"NUMCENTERLINES\", \"INTERSECTINGLENGTH\", \"GEOM_WKT\"])\n",
    "\n",
    "print(mapstreet.columns)\n",
    "\n",
    "# mapstreet.dropna(inplace=True)\n",
    "# mapstreet.drop_duplicates(keep='first', inplace=True)\n",
    "mapstreet.drop(columns=[\"ROADDIRECTIONPREFIXCD\", \"ROADNAME\", \"ROADTYPESUFFIXCD\", \"ROADDIRECTIONSUFFIXCD\", \"RIGHTZIPCD\", \"LOWADDRESSRANGEVALUE\", \"HIGHADDRESSRANGEVALUE\", \"TOWNSHIPNAME\"], inplace=True)\n",
    "\n",
    "# dropped_cols = mapstreet.drop(columns=[\"ROADDIRECTIONPREFIXCD\", \"ROADNAME\", \"ROADTYPESUFFIXCD\", \"ROADDIRECTIONSUFFIXCD\", \"RIGHTZIPCD\", \"LOWADDRESSRANGEVALUE\", \"HIGHADDRESSRANGEVALUE\", \"TOWNSHIPNAME\"])\n",
    "\n",
    "# mapstreet = mapstreet.drop(columns=[\"ROADDIRECTIONPREFIXCD\", \"ROADNAME\", \"ROADTYPESUFFIXCD\", \"ROADDIRECTIONSUFFIXCD\", \"RIGHTZIPCD\", \"LOWADDRESSRANGEVALUE\", \"HIGHADDRESSRANGEVALUE\", \"TOWNSHIPNAME\"])\n",
    "# mapstreet.fillna(\"\", inplace=True)\n",
    "\n",
    "# print(dropped_cols)\n",
    "print(mapstreet)\n",
    "mapstreet.dtypes\n"
   ]
  },
  {
   "cell_type": "code",
   "execution_count": 21,
   "metadata": {},
   "outputs": [
    {
     "name": "stdout",
     "output_type": "stream",
     "text": [
      "        MINORGRIDNAME          STREETNAME      ZIPCD  MUNICIPALITYNAME  \\\n",
      "0       MINORGRIDNAME          STREETNAME  LEFTZIPCD  MUNICIPALITYNAME   \n",
      "1               AB12B            117TH PL      46394           HAMMOND   \n",
      "2               AB12B            118TH ST      46394           HAMMOND   \n",
      "3               AB12B            119TH ST      46394           HAMMOND   \n",
      "4               AB12B            120TH ST      46394           HAMMOND   \n",
      "...               ...                 ...        ...               ...   \n",
      "168648          YN31D   COUNTY ROAD 400 E    46711.0               NaN   \n",
      "168649          YN31D            E 1175 S    46711.0               NaN   \n",
      "168650          YN31D            E 1175 S    46740.0               NaN   \n",
      "168651          YN32A  COUNTY ROAD 1150 S    46711.0               NaN   \n",
      "168652          YN32A             S 450 E    46711.0               NaN   \n",
      "\n",
      "        NUMCENTERLINES  INTERSECTINGLENGTH  \\\n",
      "0       NUMCENTERLINES  INTERSECTINGLENGTH   \n",
      "1                    4    1309.57667423781   \n",
      "2                    5    1360.11744620176   \n",
      "3                    3    672.223666841503   \n",
      "4                    1    388.057194263382   \n",
      "...                ...                 ...   \n",
      "168648               1         1086.764066   \n",
      "168649               1          498.189965   \n",
      "168650               1           29.732305   \n",
      "168651               1           33.149474   \n",
      "168652               2         2707.544093   \n",
      "\n",
      "                                                 GEOM_WKT  \n",
      "0                                                GEOM_WKT  \n",
      "1       LINESTRING (-87.5133624595531 41.6819642177294...  \n",
      "2       LINESTRING (-87.5133290003961 41.6812029868072...  \n",
      "3       MULTILINESTRING ((-87.5086907293005 41.6792199...  \n",
      "4       LINESTRING (-87.510010115853 41.6773947974598,...  \n",
      "...                                                   ...  \n",
      "168648  LINESTRING (-84.8587431619674 40.5788199945283...  \n",
      "168649  LINESTRING (-84.8604624624915 40.5758527164984...  \n",
      "168650  LINESTRING (-84.8586872285656 40.5758402438476...  \n",
      "168651  LINESTRING (-84.8491997968632 40.5789411503031...  \n",
      "168652  LINESTRING (-84.8492389699755 40.5863098526836...  \n",
      "\n",
      "[168343 rows x 7 columns]\n"
     ]
    }
   ],
   "source": [
    "# We can only map lines with WKT coordinates. Drop all rows which have no value in GEO_WKT\n",
    "mapstreet.dropna(subset=['GEOM_WKT'], how='all', inplace=True)\n",
    "print(mapstreet)\n",
    "mapstreet.to_csv(r'./test_data/mapstreet-test.csv', header=True, index=None)"
   ]
  },
  {
   "cell_type": "code",
   "execution_count": 24,
   "metadata": {},
   "outputs": [
    {
     "name": "stdout",
     "output_type": "stream",
     "text": [
      "      STATE  MUNICIPALITY         STREETNAME  MINORGRIDNAME  \\\n",
      "0     STATE  MUNICIPALITY         STREETNAME  MINORGRIDNAME   \n",
      "1        IN  FRANCESVILLE        N MORTON ST          GJ04D   \n",
      "2        IN  FRANCESVILLE        N MORTON ST          GJ04D   \n",
      "5        IN  FRANCESVILLE             ADA ST          GJ04D   \n",
      "6        IN  FRANCESVILLE             ADA ST          GJ04D   \n",
      "...     ...           ...                ...            ...   \n",
      "3253     IN       WINAMAC  COUNTY ROAD 100 S          II13C   \n",
      "3254     IN       WINAMAC         W HURON ST          II13C   \n",
      "3255     IN       WINAMAC    W WASHINGTON ST          II13C   \n",
      "3256     IN  KENDALLVILLE    HIGHPOINTE XING          UD32C   \n",
      "3259     IN    FORT WAYNE        LANGFORD LN          VI18A   \n",
      "\n",
      "             CONSEQUENCE  \n",
      "0     Street Consequence  \n",
      "1         0.001524869902  \n",
      "2         0.001524869902  \n",
      "5         0.001524869902  \n",
      "6         0.001524869902  \n",
      "...                  ...  \n",
      "3253       0.02279010258  \n",
      "3254       0.02279010258  \n",
      "3255       0.02279010258  \n",
      "3256       0.01842628344  \n",
      "3259       0.01713541548  \n",
      "\n",
      "[2213 rows x 5 columns]\n"
     ]
    }
   ],
   "source": [
    "consequence = pd.read_csv(\"src_data\\Street Consequence - Sheet1.csv\", sep=\",\", header=None, skip_blank_lines=True,\n",
    "names=[\"STATE\", \"MUNICIPALITY\", \"STREETNAME\", \"MINORGRIDNAME\", \"CONSEQUENCE\"])\n",
    "\n",
    "consequence.dropna(inplace=True)\n",
    "print(consequence)\n",
    "# consequence.dtypes"
   ]
  },
  {
   "cell_type": "code",
   "execution_count": 25,
   "metadata": {},
   "outputs": [
    {
     "name": "stdout",
     "output_type": "stream",
     "text": [
      "        STATE  MUNICIPALITY       STREETNAME  MINORGRIDNAME  \\\n",
      "0       STATE  MUNICIPALITY       STREETNAME  MINORGRIDNAME   \n",
      "1          IN  FRANCESVILLE      N MORTON ST          GJ04D   \n",
      "2          IN  FRANCESVILLE      N MORTON ST          GJ04D   \n",
      "3          IN  FRANCESVILLE      N MORTON ST          GJ04D   \n",
      "4          IN  FRANCESVILLE      N MORTON ST          GJ04D   \n",
      "...       ...           ...              ...            ...   \n",
      "318587     IN  KENDALLVILLE  HIGHPOINTE XING          UD32C   \n",
      "318588     IN    FORT WAYNE      LANGFORD LN          VI18A   \n",
      "318589     IN    FORT WAYNE      LANGFORD LN          VI18A   \n",
      "318590     IN    FORT WAYNE      LANGFORD LN          VI18A   \n",
      "318591     IN    FORT WAYNE      LANGFORD LN          VI18A   \n",
      "\n",
      "               CONSEQUENCE MINORGRIDNAME_y      ZIPCD  MUNICIPALITYNAME  \\\n",
      "0       Street Consequence   MINORGRIDNAME  LEFTZIPCD  MUNICIPALITYNAME   \n",
      "1           0.001524869902           GJ04D      47946               NaN   \n",
      "2           0.001524869902           GJ04D      47946      FRANCESVILLE   \n",
      "3           0.001524869902           UD32D        NaN      KENDALLVILLE   \n",
      "4           0.001524869902           GJ04D      47946               NaN   \n",
      "...                    ...             ...        ...               ...   \n",
      "318587       0.01842628344           UD32C        NaN               NaN   \n",
      "318588       0.01713541548           VI17A    46804.0        FORT WAYNE   \n",
      "318589       0.01713541548           VI18A    46804.0               NaN   \n",
      "318590       0.01713541548           VI18B    46804.0               NaN   \n",
      "318591       0.01713541548           VI18B    46804.0        FORT WAYNE   \n",
      "\n",
      "        NUMCENTERLINES  INTERSECTINGLENGTH  \\\n",
      "0       NUMCENTERLINES  INTERSECTINGLENGTH   \n",
      "1                    2    502.814512864288   \n",
      "2                    6    1266.07711166791   \n",
      "3                    1          230.467144   \n",
      "4                    2    502.814512864288   \n",
      "...                ...                 ...   \n",
      "318587               1          617.904574   \n",
      "318588               1           46.843083   \n",
      "318589               1          127.645764   \n",
      "318590               5          761.602027   \n",
      "318591               2          1600.98859   \n",
      "\n",
      "                                                 GEOM_WKT  \n",
      "0                                                GEOM_WKT  \n",
      "1       LINESTRING (-86.8771235687437 40.9900292583097...  \n",
      "2       LINESTRING (-86.8771762640562 40.9886501345356...  \n",
      "3       LINESTRING (-85.2717313048075 41.4437982175931...  \n",
      "4       LINESTRING (-86.8771235687437 40.9900292583097...  \n",
      "...                                                   ...  \n",
      "318587  LINESTRING (-85.2863758499169 41.4394834201982...  \n",
      "318588  LINESTRING (-85.2098871279597 41.0533799119917...  \n",
      "318589  LINESTRING (-85.2186952472327 41.0527976288138...  \n",
      "318590  LINESTRING (-85.2182325431017 41.0527906854169...  \n",
      "318591  LINESTRING (-85.2154970023817 41.0528805923937...  \n",
      "\n",
      "[318592 rows x 11 columns]\n"
     ]
    },
    {
     "data": {
      "text/plain": [
       "STATE                 object\n",
       "MUNICIPALITY          object\n",
       "STREETNAME            object\n",
       "MINORGRIDNAME         object\n",
       "CONSEQUENCE           object\n",
       "MINORGRIDNAME_y       object\n",
       "ZIPCD                 object\n",
       "MUNICIPALITYNAME      object\n",
       "NUMCENTERLINES        object\n",
       "INTERSECTINGLENGTH    object\n",
       "GEOM_WKT              object\n",
       "dtype: object"
      ]
     },
     "execution_count": 25,
     "metadata": {},
     "output_type": "execute_result"
    }
   ],
   "source": [
    "merged_df = pd.merge(consequence, mapstreet, on=\"STREETNAME\")\n",
    "\n",
    "# merged_df.dropna(axis=1, inplace=True)\n",
    "# merged_df.dropna(axis=0, inplace=True)\n",
    "# merged_df.drop(columns=[\"MINORGRIDNAME_y\", \"ROADDIRECTIONPREFIXCD\", \"ROADNAME\", \"ROADTYPESUFFIXCD\", \"ROADDIRECTIONSUFFIXCD\", \"LEFTZIPCD\", \"RIGHTZIPCD\", \"LOWADDRESSRANGEVALUE\", \"HIGHADDRESSRANGEVALUE\", \"TOWNSHIPNAME\", \"MUNICIPALITYNAME\"], inplace=True)\n",
    "merged_df.rename(columns={\"MINORGRIDNAME_x\" : \"MINORGRIDNAME\"}, inplace=True)\n",
    "\n",
    "print(merged_df)\n",
    "merged_df.dtypes"
   ]
  },
  {
   "cell_type": "code",
   "execution_count": 27,
   "metadata": {},
   "outputs": [],
   "source": [
    "merged_df.to_csv(r'./test_data/combined_test.csv', header=True, index=None)"
   ]
  },
  {
   "cell_type": "code",
   "execution_count": 31,
   "metadata": {},
   "outputs": [
    {
     "name": "stdout",
     "output_type": "stream",
     "text": [
      "             STREETNAME MINORGRIDNAME     CONSEQUENCE  \\\n",
      "1           N MORTON ST         GJ04D  0.001524869902   \n",
      "2           N MORTON ST         GJ04D  0.001524869902   \n",
      "3           N MORTON ST         GJ04D  0.001524869902   \n",
      "7                ADA ST         GJ04D  0.001524869902   \n",
      "8                ADA ST         GJ04D  0.001524869902   \n",
      "...                 ...           ...             ...   \n",
      "318587  HIGHPOINTE XING         UD32C   0.01842628344   \n",
      "318588      LANGFORD LN         VI18A   0.01713541548   \n",
      "318589      LANGFORD LN         VI18A   0.01713541548   \n",
      "318590      LANGFORD LN         VI18A   0.01713541548   \n",
      "318591      LANGFORD LN         VI18A   0.01713541548   \n",
      "\n",
      "                                                 GEOM_WKT  \n",
      "1       LINESTRING (-86.8771235687437 40.9900292583097...  \n",
      "2       LINESTRING (-86.8771762640562 40.9886501345356...  \n",
      "3       LINESTRING (-85.2717313048075 41.4437982175931...  \n",
      "7       LINESTRING (-86.8783938439566 40.9886549541385...  \n",
      "8       LINESTRING (-86.8818974446432 40.9886712792273...  \n",
      "...                                                   ...  \n",
      "318587  LINESTRING (-85.2863758499169 41.4394834201982...  \n",
      "318588  LINESTRING (-85.2098871279597 41.0533799119917...  \n",
      "318589  LINESTRING (-85.2186952472327 41.0527976288138...  \n",
      "318590  LINESTRING (-85.2182325431017 41.0527906854169...  \n",
      "318591  LINESTRING (-85.2154970023817 41.0528805923937...  \n",
      "\n",
      "[286458 rows x 4 columns]\n"
     ]
    }
   ],
   "source": [
    "merged_small = merged_df.drop(columns=[\"STATE\", \"MUNICIPALITY\", \"MINORGRIDNAME_y\", \"ZIPCD\", \"MUNICIPALITYNAME\", \"NUMCENTERLINES\", \"INTERSECTINGLENGTH\"])\n",
    "merged_small.drop(index=0, inplace=True)\n",
    "merged_small.dropna(subset=['GEOM_WKT', \"CONSEQUENCE\"], how='all', inplace=True)\n",
    "merged_small.drop_duplicates(inplace=True)\n",
    "\n",
    "print(merged_small)\n",
    "merged_small.to_csv(r'./test_data/combined_test.csv', header=True, index=None)"
   ]
  },
  {
   "cell_type": "code",
   "execution_count": 67,
   "metadata": {},
   "outputs": [
    {
     "name": "stdout",
     "output_type": "stream",
     "text": [
      "             STREETNAME MINORGRIDNAME    CONSEQUENCE  \\\n",
      "318574  W WASHINGTON ST         II13C  0.02279010258   \n",
      "318575  W WASHINGTON ST         II13C  0.02279010258   \n",
      "318576  W WASHINGTON ST         II13C  0.02279010258   \n",
      "318577  W WASHINGTON ST         II13C  0.02279010258   \n",
      "318578  W WASHINGTON ST         II13C  0.02279010258   \n",
      "318579  W WASHINGTON ST         II13C  0.02279010258   \n",
      "318580  W WASHINGTON ST         II13C  0.02279010258   \n",
      "318581  W WASHINGTON ST         II13C  0.02279010258   \n",
      "318582  W WASHINGTON ST         II13C  0.02279010258   \n",
      "318583  W WASHINGTON ST         II13C  0.02279010258   \n",
      "318584  W WASHINGTON ST         II13C  0.02279010258   \n",
      "318585  W WASHINGTON ST         II13C  0.02279010258   \n",
      "318586  W WASHINGTON ST         II13C  0.02279010258   \n",
      "318587  HIGHPOINTE XING         UD32C  0.01842628344   \n",
      "318588      LANGFORD LN         VI18A  0.01713541548   \n",
      "318589      LANGFORD LN         VI18A  0.01713541548   \n",
      "318590      LANGFORD LN         VI18A  0.01713541548   \n",
      "318591      LANGFORD LN         VI18A  0.01713541548   \n",
      "\n",
      "                                                 GEOM_WKT  \n",
      "318574  MULTILINESTRING ((-85.2243188512971 40.6556535...  \n",
      "318575  LINESTRING (-84.8749465421461 41.431516758587,...  \n",
      "318576  LINESTRING (-84.9474598873043 40.8396251146249...  \n",
      "318577  LINESTRING (-84.9465915800677 40.7449844106846...  \n",
      "318578  LINESTRING (-84.9556277082058 40.6591972539899...  \n",
      "318579  LINESTRING (-84.9554832682402 40.6591926460236...  \n",
      "318580  LINESTRING (-84.9540358678689 40.8395574694449...  \n",
      "318581  LINESTRING (-84.9511297761613 40.7449347630819...  \n",
      "318582  LINESTRING (-84.9420048570281 40.745002482102,...  \n",
      "318583  LINESTRING (-84.9463685886045 40.7449915112195...  \n",
      "318584  LINESTRING (-85.1838278171845 40.7387934260157...  \n",
      "318585  LINESTRING (-85.1739827752886 40.7387387494381...  \n",
      "318586  LINESTRING (-85.1931591559162 40.7378571365391...  \n",
      "318587  LINESTRING (-85.2863758499169 41.4394834201982...  \n",
      "318588  LINESTRING (-85.2098871279597 41.0533799119917...  \n",
      "318589  LINESTRING (-85.2186952472327 41.0527976288138...  \n",
      "318590  LINESTRING (-85.2182325431017 41.0527906854169...  \n",
      "318591  LINESTRING (-85.2154970023817 41.0528805923937...  \n"
     ]
    }
   ],
   "source": [
    "select_rows = merged_small.tail(n=18)\n",
    "print(select_rows)"
   ]
  },
  {
   "cell_type": "code",
   "execution_count": 101,
   "metadata": {},
   "outputs": [
    {
     "name": "stdout",
     "output_type": "stream",
     "text": [
      "[[['-85.2243188512971', '40.6556535952111'], ['-85.2229978488102', '40.6556480622007'], ['-85.2222859141948', '40.6556502994865'], ['-85.2213549589778', '40.655653850089']]]\n",
      "[[['-85.2243188512971', '40.6556535952111'], ['-85.2229978488102', '40.6556480622007'], ['-85.2222859141948', '40.6556502994865'], ['-85.2213549589778', '40.655653850089']], [['-85.2213555853133', '40.6556538213319'], ['-85.2213546298084', '40.6556538494083']]]\n"
     ]
    }
   ],
   "source": [
    "features_list = []\n",
    "\n",
    "for index, row in select_rows.iterrows():\n",
    "    \n",
    "    # Initialize list of coordinate pairs for the row\n",
    "    coord_list_of_list = []\n",
    "\n",
    "    if row['GEOM_WKT'].startswith('LINESTRING'):\n",
    "        # Get coordinates for a line string\n",
    "        coordinates_str = re.findall('\\(([^)]+)', row['GEOM_WKT'])[0]\n",
    "        coordinates_list = coordinates_str.split(\",\")\n",
    "        \n",
    "        for coordinate_pair in coordinates_list:\n",
    "            coord_list_of_list.append(coordinate_pair.split())\n",
    "\n",
    "            # if coord_list_of_list:\n",
    "    #     # print('we have coordinates')\n",
    "\n",
    "    #     for long, lat in coord_list_of_list:\n",
    "    #         # print(long, ', ', lat)\n",
    "\n",
    "    #         feature =  { \n",
    "    #             \"type\": \"Feature\",\n",
    "    #             \"geometry\": {\n",
    "    #                 \"type\": \"LineString\",\n",
    "    #                 \"coordinates\": [\n",
    "    #                 [102.0, 0.0], [103.0, 1.0], [104.0, 0.0], [105.0, 1.0]\n",
    "    #                 ]\n",
    "    #                 },\n",
    "    #             \"properties\": {\n",
    "    #                 \"prop0\": \"value0\",\n",
    "    #                 \"prop1\": 0.0\n",
    "    #                 }\n",
    "    #             }\n",
    "\n",
    "            # for longs,lats in LongLatList\n",
    "            #     poly = {\n",
    "            #         'type': 'Polygon',\n",
    "            #         'coordinates': [[lon,lat] for lon,lat in zip(longs,lats) ]\n",
    "            #     }\n",
    "            #     geos.append(poly)\n",
    "\n",
    "            # geometries = {\n",
    "            #     'type': 'FeatureCollection',\n",
    "            #     'features': geos,\n",
    "            # }\n",
    "\n",
    "            # geo_str = json.dumps(geometries)\n",
    "\n",
    "    elif row['GEOM_WKT'].startswith('MULTILINESTRING'):\n",
    "        # Get coordinates for a multi line string\n",
    "        # remove leading parenthesis to make this regex happy\n",
    "        mulitline_coordinates = row['GEOM_WKT'].replace(\"MULTILINESTRING (\", \"\")\n",
    "        coordinates_lines = re.findall('\\(([^)]+)', mulitline_coordinates)\n",
    "        # coordinates_str = coordinates_str.replace(\",\", \"\")\n",
    "        # print(coordinates_lines)\n",
    "        # coordinates_lines_list = coordinates_str.split(\",\")\n",
    "        # print(coordinates_lines)\n",
    "        for line in coordinates_lines:\n",
    "            # print(line)\n",
    "            line_split = line.split(\",\")\n",
    "            # print(line_split)\n",
    "            # temporary list to hold list of coordinates for a single line, will be contained in final list of lists\n",
    "            coord_line_temp = []\n",
    "            for coordinate_pair in line_split:\n",
    "                coord_line_temp.append(coordinate_pair.split())\n",
    "            coord_list_of_list.append(coord_line_temp)\n",
    "            # print(coord_list_of_list)\n",
    "            \n"
   ]
  },
  {
   "cell_type": "code",
   "execution_count": 90,
   "metadata": {},
   "outputs": [
    {
     "name": "stdout",
     "output_type": "stream",
     "text": [
      "['inside two', 'another two']\n"
     ]
    }
   ],
   "source": [
    "test_str = \"inside one (inside two), (another two) )\"\n",
    "\n",
    "coordinates_lines = re.findall('\\(([^)]+)', test_str)\n",
    "# coordinates_str = coordinates_str.replace(\",\", \"\")\n",
    "print(coordinates_lines)"
   ]
  },
  {
   "cell_type": "code",
   "execution_count": null,
   "metadata": {},
   "outputs": [],
   "source": [
    "    # if coord_list_of_list:\n",
    "    #     # print('we have coordinates')\n",
    "\n",
    "    #     for long, lat in coord_list_of_list:\n",
    "    #         # print(long, ', ', lat)\n",
    "\n",
    "    #         feature =  { \n",
    "    #             \"type\": \"Feature\",\n",
    "    #             \"geometry\": {\n",
    "    #                 \"type\": \"LineString\",\n",
    "    #                 \"coordinates\": [\n",
    "    #                 [102.0, 0.0], [103.0, 1.0], [104.0, 0.0], [105.0, 1.0]\n",
    "    #                 ]\n",
    "    #                 },\n",
    "    #             \"properties\": {\n",
    "    #                 \"prop0\": \"value0\",\n",
    "    #                 \"prop1\": 0.0\n",
    "    #                 }\n",
    "    #             }\n",
    "\n",
    "            # for longs,lats in LongLatList\n",
    "            #     poly = {\n",
    "            #         'type': 'Polygon',\n",
    "            #         'coordinates': [[lon,lat] for lon,lat in zip(longs,lats) ]\n",
    "            #     }\n",
    "            #     geos.append(poly)\n",
    "\n",
    "            # geometries = {\n",
    "            #     'type': 'FeatureCollection',\n",
    "            #     'features': geos,\n",
    "            # }\n",
    "\n",
    "            # geo_str = json.dumps(geometries)"
   ]
  }
 ],
 "metadata": {
  "interpreter": {
   "hash": "13eb0af71620a846e484681143862ad0a4deab6cadfc353264e5c14897c11035"
  },
  "kernelspec": {
   "display_name": "Python 3.9.9 64-bit",
   "language": "python",
   "name": "python3"
  },
  "language_info": {
   "codemirror_mode": {
    "name": "ipython",
    "version": 3
   },
   "file_extension": ".py",
   "mimetype": "text/x-python",
   "name": "python",
   "nbconvert_exporter": "python",
   "pygments_lexer": "ipython3",
   "version": "3.9.9"
  },
  "orig_nbformat": 4
 },
 "nbformat": 4,
 "nbformat_minor": 2
}
