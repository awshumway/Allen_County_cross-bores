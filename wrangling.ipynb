{
 "cells": [
  {
   "cell_type": "code",
   "execution_count": 1,
   "metadata": {},
   "outputs": [],
   "source": [
    "import pandas as pd\n"
   ]
  },
  {
   "cell_type": "code",
   "execution_count": 8,
   "metadata": {},
   "outputs": [
    {
     "name": "stdout",
     "output_type": "stream",
     "text": [
      "                                            MINORGRIDNAME  \\\n",
      "0       MINORGRIDNAME|STREETNAME|ROADDIRECTIONPREFIXCD...   \n",
      "1                                             AB12B|117TH   \n",
      "2                                             AB12B|118TH   \n",
      "3                                             AB12B|119TH   \n",
      "4                                             AB12B|120TH   \n",
      "...                                                   ...   \n",
      "168648                                       YN31D|COUNTY   \n",
      "168649                                            YN31D|E   \n",
      "168650                                            YN31D|E   \n",
      "168651                                       YN32A|COUNTY   \n",
      "168652                                            YN32A|S   \n",
      "\n",
      "                                               STREETNAME               ZIPCD  \\\n",
      "0                                                     NaN                 NaN   \n",
      "1       PL||117TH|PL||46394|46394|618|671|NORTH|HAMMON...   -87.5121713044794   \n",
      "2       ST||118TH|ST||46394|46394|638|751|NORTH|HAMMON...    -87.511426651429   \n",
      "3       ST||119TH|ST||46394|46394|660|701|NORTH|HAMMON...  (-87.5110183999731   \n",
      "4       ST||120TH|ST||46394|46394|798|701|NORTH|HAMMON...   -87.5086858302394   \n",
      "...                                                   ...                 ...   \n",
      "168648                                               ROAD  (-84.8587431619674   \n",
      "168649                                               1175   40.5758221871348,   \n",
      "168650                                               1175  40.5758392164994)|   \n",
      "168651                                               ROAD  (-84.8491997968632   \n",
      "168652                                                450   40.5862120671859,   \n",
      "\n",
      "         MUNICIPALITYNAME     NUMCENTERLINES   INTERSECTINGLENGTH  \\\n",
      "0                     NaN                NaN                  NaN   \n",
      "1       41.6820142319123,  -87.5104506587659    41.6820191851721,   \n",
      "2       41.6815202478328,  -87.5106596931628    41.6815093142256,   \n",
      "3       41.6791679889319,  -87.5086823798011  41.6791736935653))|   \n",
      "4                     NaN                NaN                  NaN   \n",
      "...                   ...                ...                  ...   \n",
      "168648  40.5768542774962,  -84.8587316966942    40.5760646853268,   \n",
      "168649  -84.8601769491271  40.5757994888986,    -84.8599587514156   \n",
      "168650                NaN                NaN                  NaN   \n",
      "168651                NaN                NaN                  NaN   \n",
      "168652  -84.8492225696373  40.5835169763617,    -84.8492143835271   \n",
      "\n",
      "                 GEOM_WKT  \n",
      "0                     NaN  \n",
      "1       -87.5104202023911  \n",
      "2       -87.5106147863764  \n",
      "3                     NaN  \n",
      "4                     NaN  \n",
      "...                   ...  \n",
      "168648  -84.8587216495037  \n",
      "168649  40.5758064812456,  \n",
      "168650                NaN  \n",
      "168651                NaN  \n",
      "168652  40.5828911903996,  \n",
      "\n",
      "[168653 rows x 7 columns]\n"
     ]
    }
   ],
   "source": [
    "# Import mapstreet data \n",
    "\n",
    "mapstreet = pd.read_csv(\"src_data\\GISMAPSTREET.txt\", sep=\" \", header=None, skip_blank_lines=True,\n",
    "names=[\"MINORGRIDNAME\", \"STREETNAME\", \"ROADDIRECTIONPREFIXCD\", \"ROADNAME\", \"ROADTYPESUFFIXCD\", \"ROADDIRECTIONSUFFIXCD\", \"ZIPCD\", \"RIGHTZIPCD\", \"LOWADDRESSRANGEVALUE\", \"HIGHADDRESSRANGEVALUE\", \"TOWNSHIPNAME\", \"MUNICIPALITYNAME\", \"NUMCENTERLINES\", \"INTERSECTINGLENGTH\", \"GEOM_WKT\"])\n",
    "\n",
    "# mapstreet.dropna(inplace=True)\n",
    "# mapstreet.drop_duplicates(keep='first', inplace=True)\n",
    "mapstreet.drop(columns=[\"ROADDIRECTIONPREFIXCD\", \"ROADNAME\", \"ROADTYPESUFFIXCD\", \"ROADDIRECTIONSUFFIXCD\", \"RIGHTZIPCD\", \"LOWADDRESSRANGEVALUE\", \"HIGHADDRESSRANGEVALUE\", \"TOWNSHIPNAME\"], inplace=True)\n",
    "\n",
    "dropped_cols = mapstreet.drop(columns=[\"ROADDIRECTIONPREFIXCD\", \"ROADNAME\", \"ROADTYPESUFFIXCD\", \"ROADDIRECTIONSUFFIXCD\", \"RIGHTZIPCD\", \"LOWADDRESSRANGEVALUE\", \"HIGHADDRESSRANGEVALUE\", \"TOWNSHIPNAME\"])\n",
    "\n",
    "# mapstreet.fillna(\"\", inplace=True)\n",
    "\n",
    "print(dropped_cols)\n",
    "# print(mapstreet)\n",
    "# mapstreet.dtypes\n"
   ]
  },
  {
   "cell_type": "code",
   "execution_count": 3,
   "metadata": {},
   "outputs": [
    {
     "name": "stdout",
     "output_type": "stream",
     "text": [
      "                                            MINORGRIDNAME  \\\n",
      "1                                             AB12B|117TH   \n",
      "2                                             AB12B|118TH   \n",
      "5       AB12B|ALLEY||ALLEY|||||||NORTH|HAMMOND|27|6933...   \n",
      "6                                             AB12B|BROWN   \n",
      "7                                            AB12B|BURTON   \n",
      "...                                                   ...   \n",
      "168646                                            YN31C|E   \n",
      "168647                                            YN31C|E   \n",
      "168648                                       YN31D|COUNTY   \n",
      "168649                                            YN31D|E   \n",
      "168652                                            YN32A|S   \n",
      "\n",
      "                                               STREETNAME  \\\n",
      "1       PL||117TH|PL||46394|46394|618|671|NORTH|HAMMON...   \n",
      "2       ST||118TH|ST||46394|46394|638|751|NORTH|HAMMON...   \n",
      "5                                     ((-87.5116768034287   \n",
      "6       AVE||BROWN|AVE||46394|46394|1746|1811|NORTH|HA...   \n",
      "7       CT||BURTON|CT||46394|46394|621|661|NORTH|HAMMO...   \n",
      "...                                                   ...   \n",
      "168646                                             COUTNY   \n",
      "168647                                             COUTNY   \n",
      "168648                                               ROAD   \n",
      "168649                                               1175   \n",
      "168652                                                450   \n",
      "\n",
      "                                                    ZIPCD    MUNICIPALITYNAME  \\\n",
      "1                                       -87.5121713044794   41.6820142319123,   \n",
      "2                                        -87.511426651429   41.6815202478328,   \n",
      "5                                       41.6811901697866,  (-87.5104202023911   \n",
      "6                                       -87.5099768503541   41.6804218567589,   \n",
      "7                                       -87.5127414540905    41.678387460842,   \n",
      "...                                                   ...                 ...   \n",
      "168646  900||N||46711|||JEFFERSON||5|635.643819202134|...   -84.8748679408691   \n",
      "168647  900||N|46711||||JEFFERSON||2|487.528753549585|...   -84.8766002310138   \n",
      "168648                                 (-84.8587431619674   40.5768542774962,   \n",
      "168649                                  40.5758221871348,   -84.8601769491271   \n",
      "168652                                  40.5862120671859,   -84.8492225696373   \n",
      "\n",
      "           NUMCENTERLINES INTERSECTINGLENGTH            GEOM_WKT  \n",
      "1       -87.5104506587659  41.6820191851721,   -87.5104202023911  \n",
      "2       -87.5106596931628  41.6815093142256,   -87.5106147863764  \n",
      "5       41.6820101696408,  -87.5104148584388  41.6813981147445),  \n",
      "6       -87.5098989617624  41.6806436905428,    -87.509841583335  \n",
      "7       -87.5121633350597  41.6783071557802,   -87.5119909838479  \n",
      "...                   ...                ...                 ...  \n",
      "168646  40.5713843379983,  -84.8743930617044    40.571391032509,  \n",
      "168647  40.5713778763927,  -84.8763823237051   40.5713784823588,  \n",
      "168648  -84.8587316966942  40.5760646853268,   -84.8587216495037  \n",
      "168649  40.5757994888986,  -84.8599587514156   40.5758064812456,  \n",
      "168652  40.5835169763617,  -84.8492143835271   40.5828911903996,  \n",
      "\n",
      "[98351 rows x 7 columns]\n"
     ]
    }
   ],
   "source": [
    "# We can only map lines with WKT coordinates. Drop all rows which have no value in GEO_WKT\n",
    "mapstreet.dropna(subset=['GEOM_WKT'], how='all', inplace=True)\n",
    "print(mapstreet)\n",
    "mapstreet.to_csv(r'./test_data/mapstreet-test.csv', header=True, index=None)"
   ]
  },
  {
   "cell_type": "code",
   "execution_count": null,
   "metadata": {},
   "outputs": [],
   "source": [
    "consequence = pd.read_csv(\"src_data\\Street Consequence - Sheet1.csv\", sep=\",\", header=None, skip_blank_lines=True,\n",
    "names=[\"STATE\", \"MUNICIPALITY\", \"STREETNAME\", \"MINORGRIDNAME\", \"CONSEQUENCE\"])\n",
    "\n",
    "consequence.dropna(inplace=True)\n",
    "print(consequence)\n",
    "consequence.dtypes"
   ]
  },
  {
   "cell_type": "code",
   "execution_count": null,
   "metadata": {},
   "outputs": [],
   "source": [
    "merged_df = pd.merge(consequence, mapstreet, on=\"STREETNAME\")\n",
    "\n",
    "# merged_df.dropna(axis=1, inplace=True)\n",
    "# merged_df.dropna(axis=0, inplace=True)\n",
    "merged_df.drop(columns=[\"MINORGRIDNAME_y\", \"ROADDIRECTIONPREFIXCD\", \"ROADNAME\", \"ROADTYPESUFFIXCD\", \"ROADDIRECTIONSUFFIXCD\", \"LEFTZIPCD\", \"RIGHTZIPCD\", \"LOWADDRESSRANGEVALUE\", \"HIGHADDRESSRANGEVALUE\", \"TOWNSHIPNAME\", \"MUNICIPALITYNAME\"], inplace=True)\n",
    "merged_df.rename(columns={\"MINORGRIDNAME_x\" : \"MINORGRIDNAME\"}, inplace=True)\n",
    "\n",
    "print(merged_df)\n",
    "merged_df.dtypes"
   ]
  },
  {
   "cell_type": "code",
   "execution_count": null,
   "metadata": {},
   "outputs": [],
   "source": [
    "merged_df.to_csv(r'./combined_test.csv', header=True)"
   ]
  },
  {
   "cell_type": "code",
   "execution_count": null,
   "metadata": {},
   "outputs": [],
   "source": []
  }
 ],
 "metadata": {
  "interpreter": {
   "hash": "13eb0af71620a846e484681143862ad0a4deab6cadfc353264e5c14897c11035"
  },
  "kernelspec": {
   "display_name": "Python 3.9.9 64-bit",
   "language": "python",
   "name": "python3"
  },
  "language_info": {
   "codemirror_mode": {
    "name": "ipython",
    "version": 3
   },
   "file_extension": ".py",
   "mimetype": "text/x-python",
   "name": "python",
   "nbconvert_exporter": "python",
   "pygments_lexer": "ipython3",
   "version": "3.9.9"
  },
  "orig_nbformat": 4
 },
 "nbformat": 4,
 "nbformat_minor": 2
}
